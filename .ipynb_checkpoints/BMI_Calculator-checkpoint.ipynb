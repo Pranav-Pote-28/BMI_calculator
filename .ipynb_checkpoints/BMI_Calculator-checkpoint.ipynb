{
 "cells": [
  {
   "cell_type": "code",
   "execution_count": 7,
   "id": "441944a1-dfd1-4672-b88f-d499344a80db",
   "metadata": {},
   "outputs": [
    {
     "name": "stdout",
     "output_type": "stream",
     "text": [
      "Building a BMI Calculator\n"
     ]
    }
   ],
   "source": [
    "print(\"Building a BMI Calculator\")"
   ]
  },
  {
   "cell_type": "code",
   "execution_count": 5,
   "id": "62e896bd-a7e4-49ce-8cc1-27f9b7217bea",
   "metadata": {},
   "outputs": [
    {
     "name": "stdin",
     "output_type": "stream",
     "text": [
      "Enter your weight (kgs) 53\n",
      "enter your height (cm):  173\n"
     ]
    },
    {
     "name": "stdout",
     "output_type": "stream",
     "text": [
      "Your bmi is: 17.708576965484983\n",
      "Underweight\n"
     ]
    }
   ],
   "source": [
    "weight=int(input(\"Enter your weight (kgs)\"))\n",
    "height=int(input(\"enter your height (cm): \"))\n",
    "bmi=((weight)/(height*height))*10000\n",
    "\n",
    "print(f\"Your bmi is: {bmi}\")\n",
    "if bmi < 18.5:\n",
    "    print(\"Underweight\")\n",
    "elif 18.5 <= bmi <= 24.9:\n",
    "    print(\"Normal weight\")\n",
    "elif 25<=bmi >=29.9:\n",
    "    print(\"Overweight\")\n",
    "else:\n",
    "    print(\"You are Obese\")"
   ]
  },
  {
   "cell_type": "code",
   "execution_count": null,
   "id": "3d50f398-0ed2-4387-b906-eba3b0783aba",
   "metadata": {},
   "outputs": [],
   "source": []
  }
 ],
 "metadata": {
  "kernelspec": {
   "display_name": "Python [conda env:base] *",
   "language": "python",
   "name": "conda-base-py"
  },
  "language_info": {
   "codemirror_mode": {
    "name": "ipython",
    "version": 3
   },
   "file_extension": ".py",
   "mimetype": "text/x-python",
   "name": "python",
   "nbconvert_exporter": "python",
   "pygments_lexer": "ipython3",
   "version": "3.12.7"
  }
 },
 "nbformat": 4,
 "nbformat_minor": 5
}
